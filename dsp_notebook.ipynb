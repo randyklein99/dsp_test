{
 "cells": [
  {
   "cell_type": "markdown",
   "metadata": {},
   "source": [
    "# Interactive DSP Signal Processing\n",
    "Explore signal generation, low-pass filtering, and FFT analysis with adjustable parameters.\n",
    "- **Tools:** Python, NumPy, SciPy, Matplotlib, ipywidgets\n",
    "- **Features:** Interactive frequency, cutoff, and noise control"
   ]
  },
  {
   "cell_type": "code",
   "execution_count": 1,
   "metadata": {},
   "outputs": [],
   "source": [
    "# Imports and Setup\n",
    "import numpy as np\n",
    "import matplotlib.pyplot as plt\n",
    "import scipy.signal as signal\n",
    "from ipywidgets import interact, FloatSlider, IntSlider\n",
    "%matplotlib inline\n",
    "\n"
   ]
  },
  {
   "cell_type": "code",
   "execution_count": 2,
   "metadata": {},
   "outputs": [],
   "source": [
    "# Define Interactive Function\n",
    "def plot_dsp(freq=5.0, cutoff=10.0, noise_amp=0.5):\n",
    "    # Generate signal\n",
    "    t = np.linspace(0, 1, 1000)\n",
    "    fs = 1000  # Sampling frequency (Hz)\n",
    "    noise = noise_amp * np.random.normal(0, 1, t.size)\n",
    "    signal_clean = np.sin(2 * np.pi * freq * t)\n",
    "    signal_noisy = signal_clean + noise\n",
    "\n",
    "    # Apply low-pass filter\n",
    "    order = 4\n",
    "    b, a = signal.butter(order, cutoff / (fs / 2), btype='low')\n",
    "    signal_filtered = signal.filtfilt(b, a, signal_noisy)\n",
    "\n",
    "    # Time domain plot\n",
    "    plt.figure(figsize=(12, 8))\n",
    "    plt.subplot(2, 1, 1)\n",
    "    plt.plot(t, signal_noisy, label=\"Noisy Signal\", alpha=0.5)\n",
    "    plt.plot(t, signal_filtered, label=\"Filtered Signal\", linewidth=2)\n",
    "    plt.plot(t, signal_clean, label=\"Original Signal\", linestyle=\"--\")\n",
    "    plt.title(f\"Time Domain: {freq} Hz Sine Wave, Cutoff {cutoff} Hz\")\n",
    "    plt.xlabel(\"Time (s)\")\n",
    "    plt.ylabel(\"Amplitude\")\n",
    "    plt.legend()\n",
    "    plt.grid()\n",
    "\n",
    "    # Frequency domain (FFT)\n",
    "    n = len(t)\n",
    "    freqs = np.fft.fftfreq(n, 1/fs)\n",
    "    fft_noisy = np.fft.fft(signal_noisy)\n",
    "    fft_filtered = np.fft.fft(signal_filtered)\n",
    "    fft_clean = np.fft.fft(signal_clean)\n",
    "    mask = freqs >= 0\n",
    "    plt.subplot(2, 1, 2)\n",
    "    plt.plot(freqs[mask], np.abs(fft_noisy[mask]), label=\"Noisy Signal\", alpha=0.5)\n",
    "    plt.plot(freqs[mask], np.abs(fft_filtered[mask]), label=\"Filtered Signal\", linewidth=2)\n",
    "    plt.plot(freqs[mask], np.abs(fft_clean[mask]), label=\"Original Signal\", linestyle=\"--\")\n",
    "    plt.title(\"Frequency Domain (FFT)\")\n",
    "    plt.xlabel(\"Frequency (Hz)\")\n",
    "    plt.ylabel(\"Magnitude\")\n",
    "    plt.xlim(0, 50)\n",
    "    plt.legend()\n",
    "    plt.grid()\n",
    "    plt.tight_layout()\n",
    "    plt.show()\n"
   ]
  },
  {
   "cell_type": "code",
   "execution_count": null,
   "metadata": {},
   "outputs": [
    {
     "data": {
      "application/vnd.jupyter.widget-view+json": {
       "model_id": "520bcb3c68dc4139a96cb7bf302fd8e5",
       "version_major": 2,
       "version_minor": 0
      },
      "text/plain": [
       "interactive(children=(FloatSlider(value=5.0, description='Signal Freq (Hz)', max=20.0, min=1.0, step=0.5), Flo…"
      ]
     },
     "metadata": {},
     "output_type": "display_data"
    },
    {
     "data": {
      "text/plain": [
       "<function __main__.plot_dsp(freq=5.0, cutoff=10.0, noise_amp=0.5)>"
      ]
     },
     "execution_count": 3,
     "metadata": {},
     "output_type": "execute_result"
    }
   ],
   "source": [
    "# Create Interactive Widgets\n",
    "interact(\n",
    "    plot_dsp,\n",
    "    freq=FloatSlider(min=1.0, max=20.0, step=0.5, value=5.0, description=\"Signal Freq (Hz)\"),\n",
    "    cutoff=FloatSlider(min=2.0, max=50.0, step=1.0, value=10.0, description=\"Cutoff Freq (Hz)\"),\n",
    "    noise_amp=FloatSlider(min=0.0, max=2.0, step=0.1, value=0.5, description=\"Noise Amplitude\")\n",
    ")"
   ]
  }
 ],
 "metadata": {
  "kernelspec": {
   "display_name": ".venv",
   "language": "python",
   "name": "python3"
  },
  "language_info": {
   "codemirror_mode": {
    "name": "ipython",
    "version": 3
   },
   "file_extension": ".py",
   "mimetype": "text/x-python",
   "name": "python",
   "nbconvert_exporter": "python",
   "pygments_lexer": "ipython3",
   "version": "3.12.3"
  }
 },
 "nbformat": 4,
 "nbformat_minor": 2
}
